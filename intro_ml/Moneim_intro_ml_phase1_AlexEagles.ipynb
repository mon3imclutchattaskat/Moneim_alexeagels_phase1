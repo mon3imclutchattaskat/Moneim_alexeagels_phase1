{
  "cells": [
    {
      "cell_type": "markdown",
      "metadata": {
        "id": "MgzqRAZB7MLT"
      },
      "source": [
        "# Data Preprocessing"
      ]
    },
    {
      "cell_type": "markdown",
      "metadata": {
        "id": "4anaTMQ48dvz"
      },
      "source": [
        "## Loading el dataset"
      ]
    },
    {
      "cell_type": "code",
      "execution_count": null,
      "metadata": {
        "colab": {
          "base_uri": "https://localhost:8080/"
        },
        "id": "xAMBYcep7BLJ",
        "outputId": "0d5648a9-b3e1-4a67-a6c2-a65aab464849"
      },
      "outputs": [
        {
          "name": "stdout",
          "output_type": "stream",
          "text": [
            "   red  green  blue   label\n",
            "0  226    158    50  Orange\n",
            "1   76     21    88  Purple\n",
            "2  146     70   179  Purple\n",
            "3   18    240   118   Green\n",
            "4  146    253   227   Green\n"
          ]
        }
      ],
      "source": [
        "import pandas as pd\n",
        "\n",
        "# Load the data\n",
        "data = pd.read_csv('data.csv')\n",
        "\n",
        "# Display some rows\n",
        "print(data.head())"
      ]
    },
    {
      "cell_type": "markdown",
      "metadata": {
        "id": "F2UQaqrF9fU3"
      },
      "source": [
        "## Preprocess the data"
      ]
    },
    {
      "cell_type": "code",
      "execution_count": null,
      "metadata": {
        "colab": {
          "base_uri": "https://localhost:8080/"
        },
        "id": "3LPvr0Af8jq-",
        "outputId": "67fb11ef-88e2-4cc7-d7be-8dbf20db88ae"
      },
      "outputs": [
        {
          "name": "stdout",
          "output_type": "stream",
          "text": [
            "Preprocessed Data:\n",
            "        red     green      blue   label  encoded_label\n",
            "0  0.886275  0.619608  0.196078  Orange              5\n",
            "1  0.298039  0.082353  0.345098  Purple              7\n",
            "2  0.572549  0.274510  0.701961  Purple              7\n",
            "3  0.070588  0.941176  0.462745   Green              3\n",
            "4  0.572549  0.992157  0.890196   Green              3\n"
          ]
        }
      ],
      "source": [
        "from sklearn.preprocessing import MinMaxScaler, LabelEncoder\n",
        "\n",
        "# Normalize RGB values\n",
        "scaler = MinMaxScaler()\n",
        "data[['red', 'green', 'blue']] = scaler.fit_transform(data[['red', 'green', 'blue']])\n",
        "\n",
        "# Encode color labels\n",
        "label_encoder = LabelEncoder()\n",
        "data['encoded_label'] = label_encoder.fit_transform(data['label'])\n",
        "\n",
        "print(f\"Preprocessed Data:\\n{data.head()}\")"
      ]
    },
    {
      "cell_type": "markdown",
      "metadata": {
        "id": "cGhqsxNv9mZN"
      },
      "source": [
        "## Split the data"
      ]
    },
    {
      "cell_type": "code",
      "execution_count": null,
      "metadata": {
        "colab": {
          "base_uri": "https://localhost:8080/"
        },
        "id": "8cwc8ikC9HP8",
        "outputId": "46383025-69b0-4b75-f7a9-d4aa47139136"
      },
      "outputs": [
        {
          "name": "stdout",
          "output_type": "stream",
          "text": [
            "Training set size: 3536\n",
            "Validation set size: 758\n",
            "Test set size: 758\n"
          ]
        }
      ],
      "source": [
        "from sklearn.model_selection import train_test_split\n",
        "\n",
        "# Split the data\n",
        "X = data[['red', 'green', 'blue']].to_numpy()\n",
        "y = data['label'].to_numpy()\n",
        "\n",
        "X_train, X_temp, y_train, y_temp = train_test_split(X, y, test_size=0.3, random_state=42)\n",
        "X_val, X_test, y_val, y_test = train_test_split(X_temp, y_temp, test_size=0.5, random_state=42)\n",
        "\n",
        "print(\"Training set size:\", len(X_train))\n",
        "print(\"Validation set size:\", len(X_val))\n",
        "print(\"Test set size:\", len(X_test))"
      ]
    },
    {
      "cell_type": "markdown",
      "metadata": {
        "id": "vpoxOyR2--sQ"
      },
      "source": [
        "# Model"
      ]
    },
    {
      "cell_type": "markdown",
      "metadata": {
        "id": "O0Z_igfG_Aq7"
      },
      "source": [
        "## 1 - KNN"
      ]
    },
    {
      "cell_type": "markdown",
      "metadata": {
        "id": "bKoI68Jg_SCh"
      },
      "source": [
        "### model beda2y"
      ]
    },
    {
      "cell_type": "code",
      "execution_count": null,
      "metadata": {
        "colab": {
          "base_uri": "https://localhost:8080/",
          "height": 74
        },
        "id": "OL5b4Otz9pUY",
        "outputId": "5ea68d87-bd3d-4452-8767-4611efb4f8f8"
      },
      "outputs": [
        {
          "data": {
            "text/html": [
              "<style>#sk-container-id-1 {color: black;}#sk-container-id-1 pre{padding: 0;}#sk-container-id-1 div.sk-toggleable {background-color: white;}#sk-container-id-1 label.sk-toggleable__label {cursor: pointer;display: block;width: 100%;margin-bottom: 0;padding: 0.3em;box-sizing: border-box;text-align: center;}#sk-container-id-1 label.sk-toggleable__label-arrow:before {content: \"▸\";float: left;margin-right: 0.25em;color: #696969;}#sk-container-id-1 label.sk-toggleable__label-arrow:hover:before {color: black;}#sk-container-id-1 div.sk-estimator:hover label.sk-toggleable__label-arrow:before {color: black;}#sk-container-id-1 div.sk-toggleable__content {max-height: 0;max-width: 0;overflow: hidden;text-align: left;background-color: #f0f8ff;}#sk-container-id-1 div.sk-toggleable__content pre {margin: 0.2em;color: black;border-radius: 0.25em;background-color: #f0f8ff;}#sk-container-id-1 input.sk-toggleable__control:checked~div.sk-toggleable__content {max-height: 200px;max-width: 100%;overflow: auto;}#sk-container-id-1 input.sk-toggleable__control:checked~label.sk-toggleable__label-arrow:before {content: \"▾\";}#sk-container-id-1 div.sk-estimator input.sk-toggleable__control:checked~label.sk-toggleable__label {background-color: #d4ebff;}#sk-container-id-1 div.sk-label input.sk-toggleable__control:checked~label.sk-toggleable__label {background-color: #d4ebff;}#sk-container-id-1 input.sk-hidden--visually {border: 0;clip: rect(1px 1px 1px 1px);clip: rect(1px, 1px, 1px, 1px);height: 1px;margin: -1px;overflow: hidden;padding: 0;position: absolute;width: 1px;}#sk-container-id-1 div.sk-estimator {font-family: monospace;background-color: #f0f8ff;border: 1px dotted black;border-radius: 0.25em;box-sizing: border-box;margin-bottom: 0.5em;}#sk-container-id-1 div.sk-estimator:hover {background-color: #d4ebff;}#sk-container-id-1 div.sk-parallel-item::after {content: \"\";width: 100%;border-bottom: 1px solid gray;flex-grow: 1;}#sk-container-id-1 div.sk-label:hover label.sk-toggleable__label {background-color: #d4ebff;}#sk-container-id-1 div.sk-serial::before {content: \"\";position: absolute;border-left: 1px solid gray;box-sizing: border-box;top: 0;bottom: 0;left: 50%;z-index: 0;}#sk-container-id-1 div.sk-serial {display: flex;flex-direction: column;align-items: center;background-color: white;padding-right: 0.2em;padding-left: 0.2em;position: relative;}#sk-container-id-1 div.sk-item {position: relative;z-index: 1;}#sk-container-id-1 div.sk-parallel {display: flex;align-items: stretch;justify-content: center;background-color: white;position: relative;}#sk-container-id-1 div.sk-item::before, #sk-container-id-1 div.sk-parallel-item::before {content: \"\";position: absolute;border-left: 1px solid gray;box-sizing: border-box;top: 0;bottom: 0;left: 50%;z-index: -1;}#sk-container-id-1 div.sk-parallel-item {display: flex;flex-direction: column;z-index: 1;position: relative;background-color: white;}#sk-container-id-1 div.sk-parallel-item:first-child::after {align-self: flex-end;width: 50%;}#sk-container-id-1 div.sk-parallel-item:last-child::after {align-self: flex-start;width: 50%;}#sk-container-id-1 div.sk-parallel-item:only-child::after {width: 0;}#sk-container-id-1 div.sk-dashed-wrapped {border: 1px dashed gray;margin: 0 0.4em 0.5em 0.4em;box-sizing: border-box;padding-bottom: 0.4em;background-color: white;}#sk-container-id-1 div.sk-label label {font-family: monospace;font-weight: bold;display: inline-block;line-height: 1.2em;}#sk-container-id-1 div.sk-label-container {text-align: center;}#sk-container-id-1 div.sk-container {/* jupyter's `normalize.less` sets `[hidden] { display: none; }` but bootstrap.min.css set `[hidden] { display: none !important; }` so we also need the `!important` here to be able to override the default hidden behavior on the sphinx rendered scikit-learn.org. See: https://github.com/scikit-learn/scikit-learn/issues/21755 */display: inline-block !important;position: relative;}#sk-container-id-1 div.sk-text-repr-fallback {display: none;}</style><div id=\"sk-container-id-1\" class=\"sk-top-container\"><div class=\"sk-text-repr-fallback\"><pre>KNeighborsClassifier()</pre><b>In a Jupyter environment, please rerun this cell to show the HTML representation or trust the notebook. <br />On GitHub, the HTML representation is unable to render, please try loading this page with nbviewer.org.</b></div><div class=\"sk-container\" hidden><div class=\"sk-item\"><div class=\"sk-estimator sk-toggleable\"><input class=\"sk-toggleable__control sk-hidden--visually\" id=\"sk-estimator-id-1\" type=\"checkbox\" checked><label for=\"sk-estimator-id-1\" class=\"sk-toggleable__label sk-toggleable__label-arrow\">KNeighborsClassifier</label><div class=\"sk-toggleable__content\"><pre>KNeighborsClassifier()</pre></div></div></div></div></div>"
            ],
            "text/plain": [
              "KNeighborsClassifier()"
            ]
          },
          "execution_count": 4,
          "metadata": {},
          "output_type": "execute_result"
        }
      ],
      "source": [
        "from sklearn.neighbors import KNeighborsClassifier\n",
        "from sklearn.metrics import accuracy_score\n",
        "\n",
        "# Initialize and train the model\n",
        "knn = KNeighborsClassifier(n_neighbors=5)\n",
        "\n",
        "knn\n"
      ]
    },
    {
      "cell_type": "code",
      "execution_count": null,
      "metadata": {
        "colab": {
          "base_uri": "https://localhost:8080/"
        },
        "id": "VGIR2Ikg93ds",
        "outputId": "12ef546e-080f-434c-f0ac-f4ff291350f2"
      },
      "outputs": [
        {
          "name": "stdout",
          "output_type": "stream",
          "text": [
            "KNN Accuracy: 0.8390501319261213\n"
          ]
        }
      ],
      "source": [
        "import numpy as np\n",
        "\n",
        "X_combined_train = np.concatenate((X_train, X_val), axis=0)\n",
        "y_combined_train = np.concatenate((y_train, y_val), axis=0)\n",
        "\n",
        "knn.fit(X_combined_train, y_combined_train)\n",
        "\n",
        "# Evaluate the model\n",
        "y_pred = knn.predict(X_test)\n",
        "print(f'KNN Accuracy: {accuracy_score(y_test, y_pred)}')"
      ]
    },
    {
      "cell_type": "markdown",
      "metadata": {
        "id": "m-IY0Dvn_U9B"
      },
      "source": [
        "### KNN fine-tuning\n",
        "Experiment with different hyperparameters for each model to improve performance."
      ]
    },
    {
      "cell_type": "code",
      "execution_count": null,
      "metadata": {
        "colab": {
          "base_uri": "https://localhost:8080/"
        },
        "id": "c7V8n7EK-jw-",
        "outputId": "2559314e-abaa-4212-cc34-ed42486f7ef5"
      },
      "outputs": [
        {
          "name": "stdout",
          "output_type": "stream",
          "text": [
            "Best KNN Parameters: {'n_neighbors': 9}\n"
          ]
        }
      ],
      "source": [
        "from sklearn.model_selection import GridSearchCV\n",
        "\n",
        "param_grid = {'n_neighbors': [3, 5, 7, 9, 11, 13, 15, 17, 19, 21]}\n",
        "grid_search = GridSearchCV(KNeighborsClassifier(), param_grid, cv=5)\n",
        "grid_search.fit(X_combined_train, y_combined_train)\n",
        "print(f'Best KNN Parameters: {grid_search.best_params_}')\n"
      ]
    },
    {
      "cell_type": "markdown",
      "metadata": {
        "id": "MpsDfCfzERX_"
      },
      "source": [
        "### Final KNN model using the best hyperparameters"
      ]
    },
    {
      "cell_type": "code",
      "execution_count": null,
      "metadata": {
        "colab": {
          "base_uri": "https://localhost:8080/"
        },
        "id": "QiDNIBhC-ph0",
        "outputId": "d3f429fc-77ee-44bc-d1d4-5098e8eca3bf"
      },
      "outputs": [
        {
          "name": "stdout",
          "output_type": "stream",
          "text": [
            "KNN Accuracy: 0.8548812664907651\n"
          ]
        }
      ],
      "source": [
        "from sklearn.neighbors import KNeighborsClassifier\n",
        "from sklearn.metrics import accuracy_score\n",
        "\n",
        "# Initialize and train the model\n",
        "knn = KNeighborsClassifier(n_neighbors=grid_search.best_params_['n_neighbors'])\n",
        "knn.fit(X_combined_train, y_combined_train)\n",
        "\n",
        "# Evaluate the model\n",
        "y_pred = knn.predict(X_test)\n",
        "print(f'KNN Accuracy: {accuracy_score(y_test, y_pred)}')\n"
      ]
    },
    {
      "cell_type": "markdown",
      "metadata": {
        "id": "ro4i3BI7_iF2"
      },
      "source": [
        "### KNN Evaluation"
      ]
    },
    {
      "cell_type": "code",
      "execution_count": null,
      "metadata": {
        "colab": {
          "base_uri": "https://localhost:8080/"
        },
        "id": "Bj0yf3HK-02i",
        "outputId": "1b7f4534-23e2-4176-a205-023c684f8f80"
      },
      "outputs": [
        {
          "name": "stdout",
          "output_type": "stream",
          "text": [
            "KNN Classification Report:\n",
            "              precision    recall  f1-score   support\n",
            "\n",
            "       Black       1.00      0.91      0.95        11\n",
            "        Blue       0.93      0.90      0.91       169\n",
            "       Brown       0.72      0.92      0.81        52\n",
            "       Green       0.91      0.94      0.93       212\n",
            "        Grey       0.78      0.81      0.79        26\n",
            "      Orange       0.82      0.82      0.82        34\n",
            "        Pink       0.82      0.80      0.81        79\n",
            "      Purple       0.79      0.73      0.76        90\n",
            "         Red       0.71      0.77      0.74        35\n",
            "       White       0.75      0.38      0.50         8\n",
            "      Yellow       0.91      0.71      0.80        42\n",
            "\n",
            "    accuracy                           0.85       758\n",
            "   macro avg       0.83      0.79      0.80       758\n",
            "weighted avg       0.86      0.85      0.85       758\n",
            "\n"
          ]
        }
      ],
      "source": [
        "from sklearn.metrics import classification_report\n",
        "\n",
        "# Evaluate KNN\n",
        "print(\"KNN Classification Report:\")\n",
        "print(classification_report(y_test, knn.predict(X_test), target_names=label_encoder.classes_))"
      ]
    },
    {
      "cell_type": "markdown",
      "metadata": {
        "id": "-uBHc98__poX"
      },
      "source": [
        "## 2 - Random Forest"
      ]
    },
    {
      "cell_type": "markdown",
      "metadata": {
        "id": "AAECSZrvCkcn"
      },
      "source": [
        "### model beda2y"
      ]
    },
    {
      "cell_type": "code",
      "execution_count": null,
      "metadata": {
        "colab": {
          "base_uri": "https://localhost:8080/"
        },
        "id": "edgD7z37_I6B",
        "outputId": "0abe1d67-a7ac-4840-c110-031d8c607be4"
      },
      "outputs": [
        {
          "name": "stdout",
          "output_type": "stream",
          "text": [
            "Random Forest Accuracy: 0.8654353562005277\n",
            "Random Forest Classification Report:\n",
            "              precision    recall  f1-score   support\n",
            "\n",
            "       Black       1.00      0.91      0.95        11\n",
            "        Blue       0.93      0.92      0.93       169\n",
            "       Brown       0.75      0.88      0.81        52\n",
            "       Green       0.89      0.97      0.93       212\n",
            "        Grey       0.79      0.58      0.67        26\n",
            "      Orange       0.77      0.79      0.78        34\n",
            "        Pink       0.80      0.87      0.84        79\n",
            "      Purple       0.87      0.79      0.83        90\n",
            "         Red       0.79      0.66      0.72        35\n",
            "       White       0.75      0.38      0.50         8\n",
            "      Yellow       0.91      0.76      0.83        42\n",
            "\n",
            "    accuracy                           0.87       758\n",
            "   macro avg       0.84      0.77      0.80       758\n",
            "weighted avg       0.87      0.87      0.86       758\n",
            "\n"
          ]
        }
      ],
      "source": [
        "from sklearn.ensemble import RandomForestClassifier\n",
        "\n",
        "# Initialize the Random Forest model with regularization parameters\n",
        "rf = RandomForestClassifier(\n",
        "    n_estimators=100,          # Number of trees\n",
        "    max_depth=10,              # Maximum depth of the trees\n",
        "    min_samples_split=5,       # Minimum number of samples required to split a node\n",
        "    min_samples_leaf=3,        # Minimum number of samples required at a leaf node\n",
        "    random_state=42\n",
        ")\n",
        "\n",
        "# Train the model\n",
        "rf.fit(X_combined_train, y_combined_train)\n",
        "\n",
        "# Evaluate the model\n",
        "y_pred = rf.predict(X_test)\n",
        "print(f'Random Forest Accuracy: {accuracy_score(y_test, y_pred)}')\n",
        "print(\"Random Forest Classification Report:\")\n",
        "print(classification_report(y_test, y_pred, target_names=label_encoder.classes_))\n"
      ]
    },
    {
      "cell_type": "markdown",
      "metadata": {
        "id": "f2iwyhX7EBhA"
      },
      "source": [
        "### Random Forest Hyperparameter Tuning"
      ]
    },
    {
      "cell_type": "code",
      "execution_count": null,
      "metadata": {
        "colab": {
          "base_uri": "https://localhost:8080/"
        },
        "id": "WILqxA_dEEzt",
        "outputId": "17ddc2fd-506f-497c-8cf5-2b87a5cef524"
      },
      "outputs": [
        {
          "name": "stdout",
          "output_type": "stream",
          "text": [
            "Random Forest Validation Accuracy: 0.8482849604221636\n",
            "Random Forest Validation Classification Report:\n",
            "              precision    recall  f1-score   support\n",
            "\n",
            "       Black       0.86      1.00      0.92         6\n",
            "        Blue       0.85      0.94      0.89       153\n",
            "       Brown       0.81      0.82      0.82        68\n",
            "       Green       0.92      0.93      0.92       230\n",
            "        Grey       0.83      0.47      0.60        32\n",
            "      Orange       0.76      0.91      0.83        32\n",
            "        Pink       0.81      0.84      0.82        92\n",
            "      Purple       0.81      0.69      0.74        78\n",
            "         Red       0.85      0.62      0.72        37\n",
            "       White       0.40      1.00      0.57         2\n",
            "      Yellow       0.75      0.86      0.80        28\n",
            "\n",
            "    accuracy                           0.85       758\n",
            "   macro avg       0.79      0.82      0.79       758\n",
            "weighted avg       0.85      0.85      0.84       758\n",
            "\n"
          ]
        }
      ],
      "source": [
        "# Define the parameter grid for Random Forest with regularization\n",
        "param_grid_rf = {\n",
        "    'n_estimators': [50, 100, 200],\n",
        "    'max_depth': [None, 10, 20, 30],\n",
        "    'min_samples_split': [2, 5, 10],\n",
        "    'min_samples_leaf': [1, 2, 4],\n",
        "    'bootstrap': [True, False],\n",
        "}\n",
        "\n",
        "# Initialize GridSearchCV for Random Forest\n",
        "grid_search_rf = GridSearchCV(RandomForestClassifier(random_state=42), param_grid_rf, cv=5, n_jobs=-1)\n",
        "\n",
        "# Fit GridSearchCV on the training data\n",
        "grid_search_rf.fit(X_train, y_train)\n",
        "\n",
        "# Get the best model from GridSearchCV\n",
        "best_rf = grid_search_rf.best_estimator_\n",
        "\n",
        "# Evaluate the best model on the validation set\n",
        "y_val_pred_rf = best_rf.predict(X_val)\n",
        "print(f'Random Forest Validation Accuracy: {accuracy_score(y_val, y_val_pred_rf)}')\n",
        "print(\"Random Forest Validation Classification Report:\")\n",
        "print(classification_report(y_val, y_val_pred_rf, target_names=label_encoder.classes_))\n"
      ]
    },
    {
      "cell_type": "markdown",
      "metadata": {
        "id": "9RyJB1SGE-4S"
      },
      "source": [
        "### Final evaluation random forest"
      ]
    },
    {
      "cell_type": "code",
      "execution_count": null,
      "metadata": {
        "colab": {
          "base_uri": "https://localhost:8080/"
        },
        "id": "ilI3p2OUE-WM",
        "outputId": "bb94438d-8f6e-4ea1-eadf-e2ef40c25896"
      },
      "outputs": [
        {
          "name": "stdout",
          "output_type": "stream",
          "text": [
            "Random Forest Test Accuracy: 0.8548812664907651\n",
            "Random Forest Test Classification Report:\n",
            "              precision    recall  f1-score   support\n",
            "\n",
            "       Black       1.00      0.91      0.95        11\n",
            "        Blue       0.90      0.92      0.91       169\n",
            "       Brown       0.79      0.87      0.83        52\n",
            "       Green       0.88      0.94      0.91       212\n",
            "        Grey       0.77      0.65      0.71        26\n",
            "      Orange       0.80      0.82      0.81        34\n",
            "        Pink       0.79      0.85      0.82        79\n",
            "      Purple       0.85      0.77      0.81        90\n",
            "         Red       0.73      0.69      0.71        35\n",
            "       White       0.80      0.50      0.62         8\n",
            "      Yellow       0.91      0.71      0.80        42\n",
            "\n",
            "    accuracy                           0.85       758\n",
            "   macro avg       0.84      0.78      0.81       758\n",
            "weighted avg       0.86      0.85      0.85       758\n",
            "\n",
            "Best parameters found:\n",
            "{'bootstrap': True, 'max_depth': 20, 'min_samples_leaf': 1, 'min_samples_split': 5, 'n_estimators': 200}\n"
          ]
        }
      ],
      "source": [
        "# Final evaluation on test data\n",
        "y_test_pred_rf = best_rf.predict(X_test)\n",
        "print(f'Random Forest Test Accuracy: {accuracy_score(y_test, y_test_pred_rf)}')\n",
        "print(\"Random Forest Test Classification Report:\")\n",
        "print(classification_report(y_test, y_test_pred_rf, target_names=label_encoder.classes_))\n",
        "\n",
        "# Print the best parameters found\n",
        "print(\"Best parameters found:\")\n",
        "print(grid_search_rf.best_params_)"
      ]
    },
    {
      "cell_type": "markdown",
      "metadata": {
        "id": "Fqs_5RZ1ErXS"
      },
      "source": [
        "## 3 - Gradient Boosting Model (Boosting)"
      ]
    },
    {
      "cell_type": "markdown",
      "metadata": {
        "id": "wxB--01FHCw7"
      },
      "source": [
        "### model beda2y"
      ]
    },
    {
      "cell_type": "code",
      "execution_count": null,
      "metadata": {
        "colab": {
          "base_uri": "https://localhost:8080/"
        },
        "id": "trFKqbxnFTbA",
        "outputId": "18ea9f9d-a01d-42fa-b04c-9f76d21bae53"
      },
      "outputs": [
        {
          "name": "stdout",
          "output_type": "stream",
          "text": [
            "Gradient Boosting Validation Accuracy: 0.8403693931398417\n",
            "Gradient Boosting Validation Classification Report:\n",
            "              precision    recall  f1-score   support\n",
            "\n",
            "       Black       0.86      1.00      0.92         6\n",
            "        Blue       0.86      0.94      0.90       153\n",
            "       Brown       0.78      0.82      0.80        68\n",
            "       Green       0.92      0.91      0.92       230\n",
            "        Grey       0.76      0.50      0.60        32\n",
            "      Orange       0.78      0.88      0.82        32\n",
            "        Pink       0.80      0.83      0.81        92\n",
            "      Purple       0.80      0.65      0.72        78\n",
            "         Red       0.83      0.68      0.75        37\n",
            "       White       0.50      1.00      0.67         2\n",
            "      Yellow       0.68      0.82      0.74        28\n",
            "\n",
            "    accuracy                           0.84       758\n",
            "   macro avg       0.78      0.82      0.79       758\n",
            "weighted avg       0.84      0.84      0.84       758\n",
            "\n"
          ]
        }
      ],
      "source": [
        "from sklearn.ensemble import GradientBoostingClassifier\n",
        "\n",
        "# Initialize the Gradient Boosting model with regularization parameters\n",
        "gb_model = GradientBoostingClassifier(\n",
        "    n_estimators=100,        # Number of boosting stages to be run\n",
        "    learning_rate=0.1,       # Shrinks the contribution of each tree\n",
        "    max_depth=3,             # Maximum depth of the individual trees\n",
        "    min_samples_split=2,     # Minimum number of samples required to split an internal node\n",
        "    min_samples_leaf=1,      # Minimum number of samples required at a leaf node\n",
        "    subsample=0.9,           # Fraction of samples used to fit each individual tree\n",
        "    random_state=42\n",
        ")\n",
        "\n",
        "# Fit the model\n",
        "gb_model.fit(X_train, y_train)\n",
        "\n",
        "# Predict and evaluate\n",
        "y_val_pred_gb = gb_model.predict(X_val)\n",
        "print(f'Gradient Boosting Validation Accuracy: {accuracy_score(y_val, y_val_pred_gb)}')\n",
        "print(\"Gradient Boosting Validation Classification Report:\")\n",
        "print(classification_report(y_val, y_val_pred_gb, target_names=label_encoder.classes_))"
      ]
    },
    {
      "cell_type": "markdown",
      "metadata": {
        "id": "ztayDxifHEfH"
      },
      "source": [
        "### hyperparameter tuning"
      ]
    },
    {
      "cell_type": "code",
      "execution_count": null,
      "metadata": {
        "colab": {
          "background_save": true
        },
        "id": "-I6-STCi_6qx",
        "outputId": "cc998cea-a3c4-4a67-bbdc-f239f55af8ca"
      },
      "outputs": [
        {
          "name": "stdout",
          "output_type": "stream",
          "text": [
            "Gradient Boosting Validation Accuracy: 0.8403693931398417\n",
            "Gradient Boosting Validation Classification Report:\n",
            "              precision    recall  f1-score   support\n",
            "\n",
            "       Black       0.86      1.00      0.92         6\n",
            "        Blue       0.86      0.94      0.90       153\n",
            "       Brown       0.78      0.82      0.80        68\n",
            "       Green       0.92      0.91      0.92       230\n",
            "        Grey       0.76      0.50      0.60        32\n",
            "      Orange       0.78      0.88      0.82        32\n",
            "        Pink       0.80      0.83      0.81        92\n",
            "      Purple       0.80      0.65      0.72        78\n",
            "         Red       0.83      0.68      0.75        37\n",
            "       White       0.50      1.00      0.67         2\n",
            "      Yellow       0.68      0.82      0.74        28\n",
            "\n",
            "    accuracy                           0.84       758\n",
            "   macro avg       0.78      0.82      0.79       758\n",
            "weighted avg       0.84      0.84      0.84       758\n",
            "\n"
          ]
        }
      ],
      "source": [
        "# Define the parameter grid for Gradient Boosting with regularization\n",
        "param_grid_gb = {\n",
        "    'n_estimators': [50, 100, 200],\n",
        "    'learning_rate': [0.01, 0.1, 0.2],\n",
        "    'max_depth': [3, 5, 7],\n",
        "    'min_samples_split' : [2],     # Minimum number of samples required to split an internal node\n",
        "    'min_samples_leaf' : [1],      # Minimum number of samples required at a leaf node\n",
        "    'subsample' : [0.9],\n",
        "}\n",
        "\n",
        "# Initialize GridSearchCV for Gradient Boosting\n",
        "grid_search_gb = GridSearchCV(GradientBoostingClassifier(random_state=42), param_grid_gb, cv=5, n_jobs=-1)\n",
        "\n",
        "# Fit GridSearchCV on the training data\n",
        "grid_search_gb.fit(X_train, y_train)\n",
        "\n",
        "# Get the best model from GridSearchCV\n",
        "best_gb = grid_search_gb.best_estimator_\n",
        "\n",
        "# Evaluate the best model on the validation set\n",
        "y_val_pred_gb = best_gb.predict(X_val)\n",
        "print(f'Gradient Boosting Validation Accuracy: {accuracy_score(y_val, y_val_pred_gb)}')\n",
        "print(\"Gradient Boosting Validation Classification Report:\")\n",
        "print(classification_report(y_val, y_val_pred_gb, target_names=label_encoder.classes_))"
      ]
    },
    {
      "cell_type": "markdown",
      "metadata": {
        "id": "wR0m01PnFc_q"
      },
      "source": [
        "### Final evaluation - Boosting"
      ]
    },
    {
      "cell_type": "code",
      "execution_count": null,
      "metadata": {
        "colab": {
          "background_save": true
        },
        "id": "Gf97YhODEo1r",
        "outputId": "21bec465-76ab-4636-eff0-be1bd0cf05ff"
      },
      "outputs": [
        {
          "name": "stdout",
          "output_type": "stream",
          "text": [
            "Gradient Boosting Test Accuracy: 0.8509234828496042\n",
            "Gradient Boosting Test Classification Report:\n",
            "              precision    recall  f1-score   support\n",
            "\n",
            "       Black       0.90      0.82      0.86        11\n",
            "        Blue       0.91      0.91      0.91       169\n",
            "       Brown       0.79      0.88      0.84        52\n",
            "       Green       0.88      0.92      0.90       212\n",
            "        Grey       0.67      0.62      0.64        26\n",
            "      Orange       0.76      0.82      0.79        34\n",
            "        Pink       0.80      0.87      0.84        79\n",
            "      Purple       0.87      0.81      0.84        90\n",
            "         Red       0.78      0.71      0.75        35\n",
            "       White       1.00      0.50      0.67         8\n",
            "      Yellow       0.82      0.64      0.72        42\n",
            "\n",
            "    accuracy                           0.85       758\n",
            "   macro avg       0.83      0.77      0.79       758\n",
            "weighted avg       0.85      0.85      0.85       758\n",
            "\n",
            "Best parameters found:\n",
            "{'learning_rate': 0.1, 'max_depth': 3, 'min_samples_leaf': 1, 'min_samples_split': 2, 'n_estimators': 100, 'subsample': 0.9}\n"
          ]
        }
      ],
      "source": [
        "# Final evaluation on test data\n",
        "y_test_pred_gb = best_gb.predict(X_test)\n",
        "print(f'Gradient Boosting Test Accuracy: {accuracy_score(y_test, y_test_pred_gb)}')\n",
        "print(\"Gradient Boosting Test Classification Report:\")\n",
        "print(classification_report(y_test, y_test_pred_gb, target_names=label_encoder.classes_))\n",
        "\n",
        "# Print the best parameters found\n",
        "print(\"Best parameters found:\")\n",
        "print(grid_search_gb.best_params_)"
      ]
    },
    {
      "cell_type": "code",
      "execution_count": null,
      "metadata": {
        "id": "WD9mq6lUQ6BB"
      },
      "outputs": [],
      "source": []
    },
    {
      "cell_type": "markdown",
      "metadata": {
        "id": "begsrDOtWPRF"
      },
      "source": [
        "## 4 - Support Vector Machine (SVM)"
      ]
    },
    {
      "cell_type": "markdown",
      "metadata": {
        "id": "WvpO-zstWSMR"
      },
      "source": [
        "### Model beda2y"
      ]
    },
    {
      "cell_type": "code",
      "execution_count": null,
      "metadata": {
        "colab": {
          "background_save": true
        },
        "id": "6aq4v9teWTqu",
        "outputId": "bc552fbf-8029-45b3-a321-9a889faf8ea9"
      },
      "outputs": [
        {
          "name": "stdout",
          "output_type": "stream",
          "text": [
            "SVM Accuracy: 0.8812664907651715\n",
            "SVM Classification Report:\n",
            "              precision    recall  f1-score   support\n",
            "\n",
            "       Black       1.00      0.82      0.90        11\n",
            "        Blue       0.95      0.95      0.95       169\n",
            "       Brown       0.76      0.87      0.81        52\n",
            "       Green       0.93      0.97      0.95       212\n",
            "        Grey       0.69      0.77      0.73        26\n",
            "      Orange       0.79      0.76      0.78        34\n",
            "        Pink       0.82      0.87      0.85        79\n",
            "      Purple       0.89      0.80      0.84        90\n",
            "         Red       0.76      0.74      0.75        35\n",
            "       White       0.75      0.38      0.50         8\n",
            "      Yellow       0.91      0.76      0.83        42\n",
            "\n",
            "    accuracy                           0.88       758\n",
            "   macro avg       0.84      0.79      0.81       758\n",
            "weighted avg       0.88      0.88      0.88       758\n",
            "\n"
          ]
        }
      ],
      "source": [
        "from sklearn.svm import SVC\n",
        "from sklearn.metrics import accuracy_score, classification_report\n",
        "\n",
        "# Initialize the SVM model with initial parameters\n",
        "svm = SVC(\n",
        "    C=1.0,                    # Regularization parameter\n",
        "    kernel='rbf',             # Type of kernel\n",
        "    gamma='scale',            # Kernel coefficient\n",
        "    random_state=42\n",
        ")\n",
        "\n",
        "# Train the model\n",
        "svm.fit(X_combined_train, y_combined_train)\n",
        "\n",
        "# Evaluate the model\n",
        "y_pred_svm = svm.predict(X_test)\n",
        "print(f'SVM Accuracy: {accuracy_score(y_test, y_pred_svm)}')\n",
        "print(\"SVM Classification Report:\")\n",
        "print(classification_report(y_test, y_pred_svm, target_names=label_encoder.classes_))\n"
      ]
    },
    {
      "cell_type": "markdown",
      "metadata": {
        "id": "6by87ZLiWYrA"
      },
      "source": [
        "### hyperparameter tuning"
      ]
    },
    {
      "cell_type": "code",
      "execution_count": null,
      "metadata": {
        "colab": {
          "background_save": true
        },
        "id": "Q6hmltDYWcV2",
        "outputId": "d34a3ab0-106c-4336-f377-b13b21e8a43e"
      },
      "outputs": [
        {
          "name": "stdout",
          "output_type": "stream",
          "text": [
            "SVM Validation Accuracy: 0.8707124010554089\n",
            "SVM Validation Classification Report:\n",
            "              precision    recall  f1-score   support\n",
            "\n",
            "       Black       1.00      1.00      1.00         6\n",
            "        Blue       0.88      0.96      0.92       153\n",
            "       Brown       0.81      0.87      0.84        68\n",
            "       Green       0.94      0.92      0.93       230\n",
            "        Grey       0.83      0.59      0.69        32\n",
            "      Orange       0.79      0.84      0.82        32\n",
            "        Pink       0.87      0.83      0.85        92\n",
            "      Purple       0.86      0.78      0.82        78\n",
            "         Red       0.82      0.76      0.79        37\n",
            "       White       0.50      1.00      0.67         2\n",
            "      Yellow       0.68      0.82      0.74        28\n",
            "\n",
            "    accuracy                           0.87       758\n",
            "   macro avg       0.82      0.85      0.82       758\n",
            "weighted avg       0.87      0.87      0.87       758\n",
            "\n"
          ]
        }
      ],
      "source": [
        "from sklearn.model_selection import GridSearchCV\n",
        "\n",
        "# Define the parameter grid for SVM\n",
        "param_grid_svm = {\n",
        "    'C': [0.1, 1, 10],                  # Regularization parameter\n",
        "    'kernel': ['linear', 'rbf', 'poly'], # Type of kernel\n",
        "    'gamma': ['scale', 'auto'],         # Kernel coefficient\n",
        "    'degree': [3, 4, 5]                 # Degree for polynomial kernel\n",
        "}\n",
        "\n",
        "# Initialize GridSearchCV for SVM\n",
        "grid_search_svm = GridSearchCV(SVC(random_state=42), param_grid_svm, cv=5, n_jobs=-1)\n",
        "\n",
        "# Fit GridSearchCV on the training data\n",
        "grid_search_svm.fit(X_train, y_train)\n",
        "\n",
        "# Get the best model from GridSearchCV\n",
        "best_svm = grid_search_svm.best_estimator_\n",
        "\n",
        "# Evaluate the best model on the validation set\n",
        "y_val_pred_svm = best_svm.predict(X_val)\n",
        "print(f'SVM Validation Accuracy: {accuracy_score(y_val, y_val_pred_svm)}')\n",
        "print(\"SVM Validation Classification Report:\")\n",
        "print(classification_report(y_val, y_val_pred_svm, target_names=label_encoder.classes_))\n"
      ]
    },
    {
      "cell_type": "markdown",
      "metadata": {
        "id": "LbI94qswWeg0"
      },
      "source": [
        "### Evaluation"
      ]
    },
    {
      "cell_type": "code",
      "execution_count": null,
      "metadata": {
        "colab": {
          "background_save": true
        },
        "id": "xUlJLRlLWf3T",
        "outputId": "68662049-ce4c-42b5-9303-652bf12ec880"
      },
      "outputs": [
        {
          "name": "stdout",
          "output_type": "stream",
          "text": [
            "SVM Test Accuracy: 0.8707124010554089\n",
            "SVM Test Classification Report:\n",
            "              precision    recall  f1-score   support\n",
            "\n",
            "       Black       0.90      0.82      0.86        11\n",
            "        Blue       0.92      0.93      0.92       169\n",
            "       Brown       0.79      0.88      0.84        52\n",
            "       Green       0.93      0.95      0.94       212\n",
            "        Grey       0.73      0.73      0.73        26\n",
            "      Orange       0.78      0.82      0.80        34\n",
            "        Pink       0.81      0.86      0.83        79\n",
            "      Purple       0.86      0.80      0.83        90\n",
            "         Red       0.76      0.71      0.74        35\n",
            "       White       1.00      0.38      0.55         8\n",
            "      Yellow       0.89      0.76      0.82        42\n",
            "\n",
            "    accuracy                           0.87       758\n",
            "   macro avg       0.85      0.79      0.80       758\n",
            "weighted avg       0.87      0.87      0.87       758\n",
            "\n",
            "Best parameters found for SVM:\n",
            "{'C': 10, 'degree': 3, 'gamma': 'scale', 'kernel': 'rbf'}\n"
          ]
        }
      ],
      "source": [
        "# Final evaluation on test data\n",
        "y_test_pred_svm = best_svm.predict(X_test)\n",
        "print(f'SVM Test Accuracy: {accuracy_score(y_test, y_test_pred_svm)}')\n",
        "print(\"SVM Test Classification Report:\")\n",
        "print(classification_report(y_test, y_test_pred_svm, target_names=label_encoder.classes_))\n",
        "\n",
        "# Print the best parameters found\n",
        "print(\"Best parameters found for SVM:\")\n",
        "print(grid_search_svm.best_params_)\n"
      ]
    },
    {
      "cell_type": "code",
      "execution_count": null,
      "metadata": {
        "id": "B-hiINaEWiA_"
      },
      "outputs": [],
      "source": []
    }
  ],
  "metadata": {
    "colab": {
      "provenance": []
    },
    "kernelspec": {
      "display_name": "Python 3",
      "name": "python3"
    },
    "language_info": {
      "name": "python"
    }
  },
  "nbformat": 4,
  "nbformat_minor": 0
}